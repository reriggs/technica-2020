{
 "cells": [
  {
   "cell_type": "markdown",
   "metadata": {},
   "source": [
    "#### Update Points Using a Click Callback"
   ]
  },
  {
   "cell_type": "code",
   "execution_count": 6,
   "metadata": {},
   "outputs": [
    {
     "data": {
      "application/vnd.jupyter.widget-view+json": {
       "model_id": "bc140419244c4f14877a6ff111d92c20",
       "version_major": 2,
       "version_minor": 0
      },
      "text/plain": [
       "FigureWidget({\n",
       "    'data': [{'marker': {'color': [#a3a7e4, #a3a7e4, #a3a7e4, #a3a7e4, #a3a7e4,\n",
       "               …"
      ]
     },
     "metadata": {},
     "output_type": "display_data"
    }
   ],
   "source": [
    "import plotly.graph_objects as go\n",
    "import ipywidgets as widgets\n",
    "\n",
    "import numpy as np\n",
    "np.random.seed(1)\n",
    "\n",
    "x = np.random.rand(100)\n",
    "y = np.random.rand(100)\n",
    "\n",
    "f = go.FigureWidget([go.Scatter(x=x, y=y, mode='markers')])\n",
    "\n",
    "scatter = f.data[0]\n",
    "colors = ['#a3a7e4'] * 100\n",
    "scatter.marker.color = colors\n",
    "scatter.marker.size = [10] * 100\n",
    "f.layout.hovermode = 'closest'\n",
    "\n",
    "\n",
    "# create our callback function\n",
    "def update_point(trace, points, selector):\n",
    "    c = list(scatter.marker.color)\n",
    "    s = list(scatter.marker.size)\n",
    "    for i in points.point_inds:\n",
    "        c[i] = '#bae2be'\n",
    "        s[i] = 20\n",
    "        with f.batch_update():\n",
    "            scatter.marker.color = c\n",
    "            scatter.marker.size = s\n",
    "\n",
    "\n",
    "scatter.on_click(update_point)\n",
    "\n",
    "f"
   ]
  },
  {
   "cell_type": "markdown",
   "metadata": {},
   "source": [
    "<img src='https://raw.githubusercontent.com/michaelbabyn/plot_data/master/figurewidget-click-event.gif'>"
   ]
  },
  {
   "cell_type": "markdown",
   "metadata": {},
   "source": [
    "#### Reference"
   ]
  },
  {
   "cell_type": "markdown",
   "metadata": {},
   "source": [
    "See [these Jupyter notebooks](https://github.com/jonmmease/plotly_ipywidget_notebooks) for even more FigureWidget examples."
   ]
  },
  {
   "cell_type": "code",
   "execution_count": 5,
   "metadata": {},
   "outputs": [
    {
     "name": "stdout",
     "output_type": "stream",
     "text": [
      "Help on method on_click in module plotly.basedatatypes:\n",
      "\n",
      "on_click(callback, append=False) method of plotly.graph_objs._scatter.Scatter instance\n",
      "    Register function to be called when the user clicks on one or more\n",
      "    points in this trace.\n",
      "    \n",
      "    Note: Callbacks will only be triggered when the trace belongs to a\n",
      "    instance of plotly.graph_objs.FigureWidget and it is displayed in an\n",
      "    ipywidget context. Callbacks will not be triggered on figures\n",
      "    that are displayed using plot/iplot.\n",
      "    \n",
      "    Parameters\n",
      "    ----------\n",
      "    callback\n",
      "        Callable function that accepts 3 arguments\n",
      "    \n",
      "        - this trace\n",
      "        - plotly.callbacks.Points object\n",
      "        - plotly.callbacks.InputDeviceState object\n",
      "    \n",
      "    append : bool\n",
      "        If False (the default), this callback replaces any previously\n",
      "        defined on_click callbacks for this trace. If True,\n",
      "        this callback is appended to the list of any previously defined\n",
      "        callbacks.\n",
      "    \n",
      "    Returns\n",
      "    -------\n",
      "    None\n",
      "    \n",
      "    Examples\n",
      "    --------\n",
      "    \n",
      "    >>> import plotly.graph_objects as go\n",
      "    >>> from plotly.callbacks import Points, InputDeviceState\n",
      "    >>> points, state = Points(), InputDeviceState()\n",
      "    \n",
      "    >>> def click_fn(trace, points, state):\n",
      "    ...     inds = points.point_inds\n",
      "    ...     # Do something\n",
      "    \n",
      "    >>> trace = go.Scatter(x=[1, 2], y=[3, 0])\n",
      "    >>> trace.on_click(click_fn)\n",
      "    \n",
      "    Note: The creation of the `points` and `state` objects is optional,\n",
      "    it's simply a convenience to help the text editor perform completion\n",
      "    on the arguments inside `click_fn`\n",
      "\n"
     ]
    }
   ],
   "source": [
    "import plotly.graph_objects as go\n",
    "import ipywidgets as widgets\n",
    "f = go.FigureWidget([go.Scatter()])\n",
    "help(f.data[0].on_click)"
   ]
  },
  {
   "cell_type": "markdown",
   "metadata": {},
   "source": [
    "### What About Dash?\n",
    "\n",
    "[Dash](https://dash.plot.ly/) is an open-source framework for building analytical applications, with no Javascript required, and it is tightly integrated with the Plotly graphing library.\n",
    "\n",
    "Learn about how to install Dash at https://dash.plot.ly/installation.\n",
    "\n",
    "Everywhere in this page that you see `fig.show()`, you can display the same figure in a Dash application by passing it to the `figure` argument of the [`Graph` component](https://dash.plot.ly/dash-core-components/graph) from the built-in `dash_core_components` package like this:\n",
    "\n",
    "```python\n",
    "import plotly.graph_objects as go # or plotly.express as px\n",
    "fig = go.Figure() # or any Plotly Express function e.g. px.bar(...)\n",
    "# fig.add_trace( ... )\n",
    "# fig.update_layout( ... )\n",
    "\n",
    "import dash\n",
    "import dash_core_components as dcc\n",
    "import dash_html_components as html\n",
    "\n",
    "app = dash.Dash()\n",
    "app.layout = html.Div([\n",
    "    dcc.Graph(figure=fig)\n",
    "])\n",
    "\n",
    "app.run_server(debug=True, use_reloader=False)  # Turn off reloader if inside Jupyter\n",
    "```"
   ]
  }
 ],
 "metadata": {
  "jupytext": {
   "notebook_metadata_filter": "all"
  },
  "kernelspec": {
   "display_name": "Python 3",
   "language": "python",
   "name": "python3"
  },
  "language_info": {
   "codemirror_mode": {
    "name": "ipython",
    "version": 3
   },
   "file_extension": ".py",
   "mimetype": "text/x-python",
   "name": "python",
   "nbconvert_exporter": "python",
   "pygments_lexer": "ipython3",
   "version": "3.8.6"
  },
  "plotly": {
   "description": "Click Events With FigureWidget",
   "display_as": "chart_events",
   "language": "python",
   "layout": "base",
   "name": "Click Events",
   "order": 4,
   "page_type": "example_index",
   "permalink": "python/click-events/",
   "thumbnail": "thumbnail/figurewidget-click-events.gif"
  }
 },
 "nbformat": 4,
 "nbformat_minor": 4
}
